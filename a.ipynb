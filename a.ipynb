{
 "cells": [
  {
   "cell_type": "code",
   "execution_count": 3,
   "metadata": {},
   "outputs": [],
   "source": [
    "import pandas as pd "
   ]
  },
  {
   "cell_type": "code",
   "execution_count": 4,
   "metadata": {},
   "outputs": [],
   "source": [
    "analise=pd.read_csv('dados_analise.csv')\n"
   ]
  },
  {
   "cell_type": "code",
   "execution_count": 5,
   "metadata": {},
   "outputs": [],
   "source": [
    "analise['Produtividade_Diária']=analise['tarefas_concluidas']/analise['horas_trabalhadas']\n",
    "primeira=analise['horas_trabalhadas'].groupby(analise['semana'])\n",
    "segunda=analise['horas_trabalhadas'].groupby(analise['semana'])\n",
    "terceira=analise['horas_trabalhadas'].groupby(analise['semana'])\n",
    "quarta=analise['bugs_corrigidos'].groupby(analise['semana'])\n",
    "quinta=analise['tarefas_concluidas'].groupby(analise['semana'])\n",
    "setima=analise['Produtividade_Diária'].groupby(analise['semana'])\n"
   ]
  },
  {
   "cell_type": "code",
   "execution_count": 7,
   "metadata": {},
   "outputs": [
    {
     "data": {
      "text/plain": [
       "semana\n",
       "1    40.0\n",
       "2    40.0\n",
       "3    50.0\n",
       "4    58.0\n",
       "Name: horas_trabalhadas, dtype: float64"
      ]
     },
     "execution_count": 7,
     "metadata": {},
     "output_type": "execute_result"
    }
   ],
   "source": [
    "primeira.sum()"
   ]
  },
  {
   "cell_type": "markdown",
   "metadata": {},
   "source": [
    "Total de Horas Trabalhadas\n",
    "\n",
    "Média Diária de Horas Trabalhadas\n",
    "\n",
    "Total de Bugs Corrigidos\n",
    "\n",
    "Média Diária de Bugs Corrigidos\n",
    "\n",
    "Total de Tarefas Concluídas\n",
    "\n",
    "Média Diária de Tarefas Concluídas\n",
    "\n",
    "Produtividade Diária (Tarefas Concluídas por Hora)\n"
   ]
  }
 ],
 "metadata": {
  "kernelspec": {
   "display_name": "base",
   "language": "python",
   "name": "python3"
  },
  "language_info": {
   "codemirror_mode": {
    "name": "ipython",
    "version": 3
   },
   "file_extension": ".py",
   "mimetype": "text/x-python",
   "name": "python",
   "nbconvert_exporter": "python",
   "pygments_lexer": "ipython3",
   "version": "3.10.9"
  },
  "orig_nbformat": 4
 },
 "nbformat": 4,
 "nbformat_minor": 2
}
